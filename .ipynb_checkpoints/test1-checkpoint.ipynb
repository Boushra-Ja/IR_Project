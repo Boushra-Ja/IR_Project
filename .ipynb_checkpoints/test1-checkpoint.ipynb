{
 "cells": [
  {
   "cell_type": "code",
   "execution_count": 1,
   "id": "afd7e794",
   "metadata": {},
   "outputs": [],
   "source": [
    "from nltk.corpus import stopwords\n",
    "from nltk.tokenize import sent_tokenize, word_tokenize\n",
    "import nltk\n",
    "# nltk.download('book')\n",
    "import re "
   ]
  },
  {
   "cell_type": "code",
   "execution_count": 2,
   "id": "1f9b31e5",
   "metadata": {},
   "outputs": [],
   "source": [
    "EXAMPLE_TEXT = \"Hello Mr. Smith, how are you doing today? The weather is great, and Python is awesome. The sky is pinkish-blue. You shouldn't eat cardboard.\""
   ]
  },
  {
   "cell_type": "code",
   "execution_count": 3,
   "id": "6606d36b",
   "metadata": {},
   "outputs": [
    {
     "data": {
      "text/plain": [
       "\"hello mr. smith, how are you doing today? the weather is great, and python is awesome. the sky is pinkish-blue. you shouldn't eat cardboard.\""
      ]
     },
     "execution_count": 3,
     "metadata": {},
     "output_type": "execute_result"
    }
   ],
   "source": [
    "EXAMPLE_TEXT = EXAMPLE_TEXT.lower().strip()\n",
    "EXAMPLE_TEXT"
   ]
  },
  {
   "cell_type": "code",
   "execution_count": 4,
   "id": "2f804e1e",
   "metadata": {},
   "outputs": [
    {
     "name": "stdout",
     "output_type": "stream",
     "text": [
      "Token 0: hello\n",
      "Token 1: mr.\n",
      "Token 2: smith,\n",
      "Token 3: how\n",
      "Token 4: are\n",
      "Token 5: you\n",
      "Token 6: doing\n",
      "Token 7: today?\n",
      "Token 8: the\n",
      "Token 9: weather\n",
      "Token 10: is\n",
      "Token 11: great,\n",
      "Token 12: and\n",
      "Token 13: python\n",
      "Token 14: is\n",
      "Token 15: awesome.\n",
      "Token 16: the\n",
      "Token 17: sky\n",
      "Token 18: is\n",
      "Token 19: pinkish-blue.\n",
      "Token 20: you\n",
      "Token 21: shouldn't\n",
      "Token 22: eat\n",
      "Token 23: cardboard.\n"
     ]
    }
   ],
   "source": [
    "## tokenizing a piecen of text\n",
    "for i, w in enumerate(EXAMPLE_TEXT.split(\" \")):\n",
    "    print(\"Token \" + str(i) + \": \" + w)"
   ]
  },
  {
   "cell_type": "code",
   "execution_count": 5,
   "id": "caaa2b33",
   "metadata": {},
   "outputs": [
    {
     "name": "stdout",
     "output_type": "stream",
     "text": [
      "['hello mr. smith, how are you doing today?', 'the weather is great, and python is awesome.', 'the sky is pinkish-blue.', \"you shouldn't eat cardboard.\"]\n",
      "['hello', 'mr.', 'smith', ',', 'how', 'are', 'you', 'doing', 'today', '?', 'the', 'weather', 'is', 'great', ',', 'and', 'python', 'is', 'awesome', '.', 'the', 'sky', 'is', 'pinkish-blue', '.', 'you', 'should', \"n't\", 'eat', 'cardboard', '.']\n"
     ]
    }
   ],
   "source": [
    "print(sent_tokenize(EXAMPLE_TEXT))\n",
    "print(word_tokenize(EXAMPLE_TEXT))\n"
   ]
  },
  {
   "cell_type": "code",
   "execution_count": 7,
   "id": "f3dc3e24",
   "metadata": {},
   "outputs": [
    {
     "data": {
      "text/plain": [
       "['This',\n",
       " 'is',\n",
       " 'a',\n",
       " 'sample',\n",
       " 'sentence',\n",
       " ',',\n",
       " 'showing',\n",
       " 'off',\n",
       " 'the',\n",
       " 'stop',\n",
       " 'words',\n",
       " 'filtration',\n",
       " '.']"
      ]
     },
     "execution_count": 7,
     "metadata": {},
     "output_type": "execute_result"
    }
   ],
   "source": [
    "##Stop-words - In NLP, Stop-words are nothing but useless words which are of\n",
    "##no importance and do not convey any meaning. They're just like filler words\n",
    "\n",
    "example_sent = \"This is a sample sentence, showing off the stop words filtration.\"\n",
    "\n",
    "stop_words = set(stopwords.words('english'))\n",
    "\n",
    "##below line prints the common stop words set by NLTK\n",
    "##print(stop_words)\n",
    "word_tokens = word_tokenize(example_sent)\n",
    "word_tokens"
   ]
  },
  {
   "cell_type": "code",
   "execution_count": 8,
   "id": "46653fef",
   "metadata": {},
   "outputs": [
    {
     "name": "stdout",
     "output_type": "stream",
     "text": [
      "['This', 'sample', 'sentence', ',', 'showing', 'stop', 'words', 'filtration', '.']\n"
     ]
    }
   ],
   "source": [
    "filtered_sentence = []\n",
    "\n",
    "for w in word_tokens:\n",
    "    if w not in stop_words:\n",
    "        filtered_sentence.append(w)\n",
    "\n",
    "##one line statement for the above operation\n",
    "##filtered_sentence = [w for w in word_tokens if not w in stop_words]\n",
    "\n",
    "print(filtered_sentence)"
   ]
  },
  {
   "cell_type": "code",
   "execution_count": 9,
   "id": "be795d3f",
   "metadata": {},
   "outputs": [
    {
     "name": "stdout",
     "output_type": "stream",
     "text": [
      "python\n",
      "python\n",
      "python\n",
      "python\n",
      "pythonli\n"
     ]
    }
   ],
   "source": [
    "from nltk.stem import PorterStemmer\n",
    "from nltk.tokenize import sent_tokenize, word_tokenize\n",
    "\n",
    "ps = PorterStemmer()\n",
    "\n",
    "example_words = [\"python\",\"pythoner\",\"pythoning\",\"pythoned\",\"pythonly\"]\n",
    "\n",
    "for w in example_words:\n",
    "    print(ps.stem(w))"
   ]
  },
  {
   "cell_type": "code",
   "execution_count": 10,
   "id": "02426049",
   "metadata": {},
   "outputs": [
    {
     "name": "stdout",
     "output_type": "stream",
     "text": [
      "it\n",
      "is\n",
      "import\n",
      "to\n",
      "by\n",
      "veri\n",
      "pythonli\n",
      "while\n",
      "you\n",
      "are\n",
      "python\n",
      "with\n",
      "python\n",
      ".\n",
      "all\n",
      "python\n",
      "have\n",
      "python\n",
      "poorli\n",
      "at\n",
      "least\n",
      "onc\n",
      ".\n"
     ]
    }
   ],
   "source": [
    "new_text = \"It is important to by very pythonly while you are pythoning with python. All pythoners have pythoned poorly at least once.\"\n",
    "\n",
    "words = word_tokenize(new_text)\n",
    "\n",
    "for w in words:\n",
    "    print(ps.stem(w))"
   ]
  },
  {
   "cell_type": "code",
   "execution_count": 11,
   "id": "4f8c90f0",
   "metadata": {},
   "outputs": [
    {
     "name": "stdout",
     "output_type": "stream",
     "text": [
      "cat\n",
      "cactus\n",
      "goose\n",
      "rock\n",
      "python\n",
      "good\n",
      "best\n",
      "run\n",
      "run\n"
     ]
    }
   ],
   "source": [
    "#Lemmatizing    \n",
    "from nltk.stem import WordNetLemmatizer\n",
    "\n",
    "##The major difference between these is, as you saw earlier,\n",
    "##stemming can often create non-existent words, whereas lemmas are actual words.\n",
    "##pos - parts of speech parameter, if not specified default is noun\n",
    "\n",
    "\n",
    "lemmatizer = WordNetLemmatizer()\n",
    "\n",
    "print(lemmatizer.lemmatize(\"cats\"))\n",
    "print(lemmatizer.lemmatize(\"cacti\"))\n",
    "print(lemmatizer.lemmatize(\"geese\"))\n",
    "print(lemmatizer.lemmatize(\"rocks\"))\n",
    "print(lemmatizer.lemmatize(\"python\"))\n",
    "print(lemmatizer.lemmatize(\"better\", pos=\"a\"))\n",
    "print(lemmatizer.lemmatize(\"best\", pos=\"a\"))\n",
    "print(lemmatizer.lemmatize(\"run\"))\n",
    "print(lemmatizer.lemmatize(\"run\",'v'))\n"
   ]
  },
  {
   "cell_type": "code",
   "execution_count": 12,
   "id": "0b2bcca0",
   "metadata": {},
   "outputs": [
    {
     "name": "stderr",
     "output_type": "stream",
     "text": [
      "[nltk_data] Downloading package omw-1.4 to C:\\Users\\boshra\n",
      "[nltk_data]     hamze\\AppData\\Roaming\\nltk_data...\n",
      "[nltk_data]   Package omw-1.4 is already up-to-date!\n"
     ]
    },
    {
     "data": {
      "text/plain": [
       "True"
      ]
     },
     "execution_count": 12,
     "metadata": {},
     "output_type": "execute_result"
    }
   ],
   "source": [
    "nltk.download('omw-1.4')"
   ]
  },
  {
   "cell_type": "code",
   "execution_count": null,
   "id": "7fe8537d",
   "metadata": {},
   "outputs": [],
   "source": []
  }
 ],
 "metadata": {
  "kernelspec": {
   "display_name": "Python 3 (ipykernel)",
   "language": "python",
   "name": "python3"
  },
  "language_info": {
   "codemirror_mode": {
    "name": "ipython",
    "version": 3
   },
   "file_extension": ".py",
   "mimetype": "text/x-python",
   "name": "python",
   "nbconvert_exporter": "python",
   "pygments_lexer": "ipython3",
   "version": "3.10.9"
  }
 },
 "nbformat": 4,
 "nbformat_minor": 5
}
