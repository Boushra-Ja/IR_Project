{
 "cells": [
  {
   "cell_type": "code",
   "execution_count": null,
   "id": "e8ad3eb7",
   "metadata": {},
   "outputs": [],
   "source": [
    "# remove stop words _1\n",
    "from nltk.corpus import stopwords\n",
    "from nltk.corpus import stopwords\n",
    "from nltk.tokenize import sent_tokenize, word_tokenize\n",
    "import nltk\n",
    "import re\n",
    "import nltk\n",
    "from nltk.stem import WordNetLemmatizer \n",
    "from nltk.stem.snowball import SnowballStemmer\n",
    "\n",
    "stop_words = set(stopwords.words('english'))  \n",
    "#caselower_3\n",
    "df['new_text'] = df['text'].str.lower()\n",
    "df['new_text'] = df['new_text'].apply(lambda x: \" \".join([w for w in str(x).split() if not w in stop_words]))\n",
    "#remove punctuation_2\n",
    "df['new_text'] = df['new_text'].str.replace('[^\\w\\s]','')\n",
    "# toknize _4\n",
    "df['new_text']=df['new_text'].apply(lambda x: word_tokenize(x))\n",
    "\n",
    "# lemtization _5\n",
    "\n",
    "# Init the Wordnet Lemmatizer\n",
    "lemmatizer = WordNetLemmatizer()\n",
    "def lemmatize_text(text):\n",
    "    lemmatizer = WordNetLemmatizer()\n",
    "    return [lemmatizer.lemmatize(w) for w in text]\n",
    "df['new_text'] = df['new_text'].apply(lemmatize_text)\n",
    "\n",
    "#stemaization_6\n",
    "# Use English stemmer.\n",
    "stemmer = SnowballStemmer(\"english\")\n",
    "df['new_text'] = df['new_text'].apply(lambda x: [stemmer.stem(y) for y in x])\n"
   ]
  }
 ],
 "metadata": {
  "kernelspec": {
   "display_name": "Python 3 (ipykernel)",
   "language": "python",
   "name": "python3"
  },
  "language_info": {
   "codemirror_mode": {
    "name": "ipython",
    "version": 3
   },
   "file_extension": ".py",
   "mimetype": "text/x-python",
   "name": "python",
   "nbconvert_exporter": "python",
   "pygments_lexer": "ipython3",
   "version": "3.10.9"
  }
 },
 "nbformat": 4,
 "nbformat_minor": 5
}
